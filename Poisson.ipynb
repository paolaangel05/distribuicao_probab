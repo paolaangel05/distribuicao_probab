{
 "cells": [
  {
   "cell_type": "markdown",
   "id": "8dec7db5-41ed-4bd2-978b-6fd56db281d2",
   "metadata": {},
   "source": [
    "# POISSON\n",
    "#### *Autora: Paola Silva*\n"
   ]
  },
  {
   "cell_type": "markdown",
   "id": "0849b0b0-0d51-4bbd-bb70-d5d77f2bd4c8",
   "metadata": {},
   "source": [
    "## Distribuição de Poisson\n",
    "\n",
    "- Modela o número de vezes em que um evento ocorre em um **intervalo**.\n",
    "- Parâmetro: $\\lambda$ (número médio de ocorrências).\n",
    "- Função de probabilidade:  \n",
    "<center>$P(X=k) = \\displaystyle \\frac{e^{-\\lambda}\\lambda^k }{k!}$, onde $k = 0,1,2,\\dots$"
   ]
  },
  {
   "cell_type": "code",
   "execution_count": 1,
   "id": "a5b51c56-20b3-4899-9369-efa9872d5286",
   "metadata": {},
   "outputs": [],
   "source": [
    "import numpy as np\n",
    "from scipy.stats import poisson\n",
    "import matplotlib.pyplot as plt\n",
    "%matplotlib inline\n",
    "\n",
    "#Definindo cores para os gráficos\n",
    "CINZA = \"#9E9E9E\"\n",
    "CINZA_TEXTO = \"#515151\"\n",
    "AZUL = \"#003F5c\""
   ]
  },
  {
   "cell_type": "markdown",
   "id": "6f0d2181-827c-4bb6-a7f5-22a109ada186",
   "metadata": {},
   "source": [
    "### Telefonemas por minuto"
   ]
  },
  {
   "cell_type": "markdown",
   "id": "2a30b804-dc63-4828-b592-06e0c2e71bae",
   "metadata": {
    "jp-MarkdownHeadingCollapsed": true
   },
   "source": [
    "<b> Numa central telefônica, o número de chamadas chega segundo uma distribuição de Poisson, com a média \n",
    "de oito chamadas *por minuto*. Determinar qual a probabilidade de que num minuto se tenha:"
   ]
  },
  {
   "cell_type": "markdown",
   "id": "293fa384-e412-4bdf-9b0d-a83129b7dc86",
   "metadata": {},
   "source": [
    "- **dez ou mais chamadas**\n",
    "-  **menos que nove chamadas**\n",
    "-  **entre sete (inclusive) e nove (exclusive) chamadas**"
   ]
  },
  {
   "cell_type": "markdown",
   "id": "600549c3-593c-4e19-bc29-63174f53027c",
   "metadata": {},
   "source": [
    "Seja X: número de chamadas por minuto"
   ]
  },
  {
   "cell_type": "code",
   "execution_count": 2,
   "id": "c5690b8e-4900-4035-8767-d8dadab566a5",
   "metadata": {},
   "outputs": [],
   "source": [
    "x = np.arange(9) #Valores que X pode assumir\n",
    "lambda_ = 8 #taxa média"
   ]
  },
  {
   "cell_type": "markdown",
   "id": "d5cfa886-7037-4606-bace-95fecd5693c1",
   "metadata": {},
   "source": [
    "<br>\n",
    "\n",
    "<b>Probabilidade de ter, pelo menos, 10 chamadas em um minuto </b>"
   ]
  },
  {
   "cell_type": "code",
   "execution_count": 3,
   "id": "9744a11c-577d-482a-9a91-afed3f7488a6",
   "metadata": {},
   "outputs": [
    {
     "name": "stdout",
     "output_type": "stream",
     "text": [
      "A probabilidade de ter pelo menos 10 chamadas é 28.34%\n"
     ]
    }
   ],
   "source": [
    "k = 10\n",
    "\n",
    "prob = 1-poisson.cdf(k-1,lambda_) \n",
    "print(f'A probabilidade de ter pelo menos {k} chamadas é {prob*100:.2f}%')"
   ]
  },
  {
   "cell_type": "markdown",
   "id": "9c3f0c83-beab-43dc-b7d0-6c7e516f4b87",
   "metadata": {},
   "source": [
    "<hr>  \n",
    "\n",
    "Obs: `poisson.cdf` retorna a probabilidade de X ser menor ou igual a x : P(X<=x).  \n",
    "Como quero a probabilidade de ser maior ou igual a 10, faço o complemento:  \n",
    "\n",
    "$P(X>=10) = 1 - P(X<10) = 1 - P(X <=9) = 1 - poisson.cdf (9,lambda\\_) $\n",
    "\n",
    "<hr>"
   ]
  },
  {
   "cell_type": "markdown",
   "id": "cfc8a011-b309-45b0-8cc3-2eab078c2f75",
   "metadata": {},
   "source": [
    "<br>\n",
    "\n",
    "**Probabilidade de ter menos que 9 chamadas**"
   ]
  },
  {
   "cell_type": "code",
   "execution_count": 4,
   "id": "70cd10d6-8dc7-42fa-921c-2116f3325596",
   "metadata": {},
   "outputs": [
    {
     "name": "stdout",
     "output_type": "stream",
     "text": [
      "A probabilidade de ter menos que 9 chamadas é 59.25%\n"
     ]
    }
   ],
   "source": [
    "k = 9\n",
    "prob = poisson.cdf(k-1, lambda_)\n",
    "print(f'A probabilidade de ter menos que {k} chamadas é {prob*100:.2f}%')"
   ]
  },
  {
   "cell_type": "markdown",
   "id": "913492c8-3db5-45f0-b2a6-0fec4a3960e8",
   "metadata": {},
   "source": [
    "<br>\n",
    "\n",
    "**Probabilidade de ter entre sete (inclusive) e nove (exclusive) chamadas**  "
   ]
  },
  {
   "cell_type": "code",
   "execution_count": 5,
   "id": "bc703f27-b157-4980-b800-cf6d89775433",
   "metadata": {},
   "outputs": [
    {
     "data": {
      "text/plain": [
       "array([7, 8])"
      ]
     },
     "execution_count": 5,
     "metadata": {},
     "output_type": "execute_result"
    }
   ],
   "source": [
    "x = np.arange(7,9)\n",
    "x"
   ]
  },
  {
   "cell_type": "code",
   "execution_count": 6,
   "id": "f68c8f0e-63b2-445b-b44d-11fb5426b93c",
   "metadata": {},
   "outputs": [
    {
     "name": "stdout",
     "output_type": "stream",
     "text": [
      "A probabilidade de o número de chamadas ser 7 ou 8 é 27.92%\n"
     ]
    }
   ],
   "source": [
    "prob_soma = 0\n",
    "for k in x:\n",
    "    prob_soma += poisson.pmf(k,lambda_)\n",
    "    \n",
    "print(f'A probabilidade de o número de chamadas ser 7 ou 8 é {prob_soma*100:.2f}%')"
   ]
  },
  {
   "cell_type": "markdown",
   "id": "946df278-0993-4838-897b-32974e4a5751",
   "metadata": {},
   "source": [
    "<br>\n",
    "\n",
    "- Outra forma de calcular usando apenas `poisson.cdf`"
   ]
  },
  {
   "cell_type": "code",
   "execution_count": 7,
   "id": "7ebcaf31-645a-46c6-8007-2967d6e1b85d",
   "metadata": {},
   "outputs": [
    {
     "name": "stdout",
     "output_type": "stream",
     "text": [
      "27.92%\n"
     ]
    }
   ],
   "source": [
    "teste = 1 - ( poisson.cdf(6,lambda_) + (1 - poisson.cdf(8, lambda_)) )\n",
    "print(f'{teste*100:.2f}%')"
   ]
  },
  {
   "cell_type": "markdown",
   "id": "79d71544-2da7-4088-95ec-9686c167dcd6",
   "metadata": {},
   "source": [
    "<br>\n",
    "\n",
    "### GRÁFICOS"
   ]
  },
  {
   "cell_type": "markdown",
   "id": "f3fd471f-c300-44f3-9c6e-87ac016a848e",
   "metadata": {},
   "source": [
    "**Parâmetros**:\n"
   ]
  },
  {
   "cell_type": "code",
   "execution_count": 8,
   "id": "79f6dee0-5820-40f8-90df-22f2b63fb440",
   "metadata": {},
   "outputs": [],
   "source": [
    "k = 9\n",
    "lambda_ = 8 "
   ]
  },
  {
   "cell_type": "markdown",
   "id": "15d408ca-be68-4b22-a6ec-65fab6aca35d",
   "metadata": {},
   "source": [
    "### Função massa de probabilidade"
   ]
  },
  {
   "cell_type": "code",
   "execution_count": 11,
   "id": "34b2091d-7c24-4454-9933-62f3a1d8943b",
   "metadata": {},
   "outputs": [
    {
     "data": {
      "image/png": "[encoded data removed]",
      "text/plain": [
       "<Figure size 1008x432 with 1 Axes>"
      ]
     },
     "metadata": {},
     "output_type": "display_data"
    }
   ],
   "source": [
    "fig, ax = plt.subplots(figsize=(14,6), dpi=72)\n",
    "x = np.arange(0,k+1)\n",
    "y = poisson.pmf(x, lambda_)\n",
    "ax.plot(x, y, 'o', color=AZUL, ms=6)\n",
    "ax.vlines(x, 0, y, colors=AZUL, lw=5, alpha=0.6)\n",
    "\n",
    "ax.spines[['top','right','left']].set_visible(False)\n",
    "\n",
    "ax.set_yticks([])\n",
    "ax.spines['bottom'].set_color(CINZA)\n",
    "\n",
    "ax.set_xlabel(\"Número de chamadas POR minuto\", fontsize=14)\n",
    "ax.set_xticks(range(k+1), labels=range(k+1))\n",
    "\n",
    "for i in range(len(x)):\n",
    "  y = poisson.pmf(i,lambda_)\n",
    "  ax.annotate(f'{np.round(y,4)}', #texto do rótulo\n",
    "                xy=(i,y), #Ponto (x,y) do rótulo\n",
    "                xytext=(4,5), #distãncia relativa do rótulo ao ponto onde ele foi definido\n",
    "                textcoords='offset points',\n",
    "                # color=CINZA_TEXTO,\n",
    "                fontsize=13,\n",
    "                fontweight='medium')\n",
    "\n",
    "\n",
    "fig.text(0.5, 0.90,f'Função Massa de Probabilidade da Poisson : lambda = {lambda_}\\n',\n",
    "         fontweight='medium', fontsize=18, ha='center');"
   ]
  },
  {
   "cell_type": "markdown",
   "id": "5260c560-9af1-4d42-9d5b-f67ee83e5bbb",
   "metadata": {},
   "source": [
    "<br>\n",
    "\n",
    "### Algumas considerações que observei para **λ = 8**\n",
    "\n",
    "\n",
    "\n",
    "- A Poisson é uma distribuição discreta caracterizada por ter sua **média e variância iguais a λ**. Portanto, neste caso, **média = variância = 8**, o que indica que o número de eventos tende a se concentrar em torno de 8, mas com alguma variabilidade.\n",
    "\n",
    "- As maiores probabilidades ocorrem entre os valores **k = 7 e k = 8**.\n",
    "\n",
    "- À medida que o valor de λ aumenta, a distribuição de Poisson se torna **mais simétrica** e passa a se parecer com uma **distribuição normal discreta**. Com λ = 8, já observamos essa tendência à simetria. \n",
    "\n",
    "- O intervalo entre **k = 6 e k = 10** concentra a maior parte da probabilidade, o que indica que a variabilidade do número de eventos ao redor da média é relativamente pequena.\n",
    "\n",
    "- Por fim, a distribuição também apresenta **caudas leves**, ou seja, a chance de ocorrerem valores muito distantes da média (por exemplo, k < 3 ou k > 12) é bastante baixa.\n",
    "\n"
   ]
  },
  {
   "cell_type": "markdown",
   "id": "14dcbd66-1b09-414c-a455-70628c273e31",
   "metadata": {},
   "source": [
    "### Função de distribuição acumulada"
   ]
  },
  {
   "cell_type": "code",
   "execution_count": 12,
   "id": "7b7bb5dd-e5ce-47bf-b54a-fdd7092805c9",
   "metadata": {},
   "outputs": [
    {
     "data": {
      "image/png": "[encoded data removed]",
      "text/plain": [
       "<Figure size 1008x432 with 1 Axes>"
      ]
     },
     "metadata": {},
     "output_type": "display_data"
    }
   ],
   "source": [
    "fig, ax = plt.subplots(figsize=(14,6), dpi = 72)\n",
    "\n",
    "x = np.arange(0,k+1)\n",
    "y = poisson.cdf(x, lambda_)\n",
    "\n",
    "ax.step(x, y, where='post', marker='o', color=AZUL, markersize=6)\n",
    "ax.plot(x[1:], y[:-1], marker='o', markersize=6, color=AZUL , markerfacecolor='white', linestyle='None')\n",
    "\n",
    "#Artifício para criar linhas verticais pontilhadas\n",
    "for i in range(len(x)-1):\n",
    "    ax.vlines(x[i+1], y[i], y[i+1], linestyles='dotted', colors='w')\n",
    "\n",
    "\n",
    "ax.spines[['left','top','right']].set_visible(False)\n",
    "ax.spines['bottom'].set_color(CINZA)\n",
    "\n",
    "ax.set_yticks(ticks=[])\n",
    "\n",
    "ax.set_xticks(ticks=x, labels=x)\n",
    "\n",
    "# for x,y in zip(x,y):\n",
    "    # ax.annotate(text = f'{np.round(y,4)}',\n",
    "    #            xy=(x,y), \n",
    "    #             xytext=(5,3), \n",
    "    #             textcoords='offset points',)\n",
    "\n",
    "for i in range(len(x)):\n",
    "    y = poisson.cdf(i, lambda_)\n",
    "    ax.annotate(text = f'{np.round(y,4)}',xy=(i,y), xytext=(5,3), textcoords='offset points',)\n",
    "    \n",
    "\n",
    "fig.text(0.5,0.9,f\"Função de Distribuição Acumulada da Poisson: lambda = {lambda_}\\n\", fontweight='medium', fontsize=18, ha='center');\n",
    "ax.set_xlabel(f\"\\nTelefonemas por minuto 'ATÉ'\", fontsize=16);\n"
   ]
  }
 ],
 "metadata": {
  "kernelspec": {
   "display_name": "Python 3 (ipykernel)",
   "language": "python",
   "name": "python3"
  },
  "language_info": {
   "codemirror_mode": {
    "name": "ipython",
    "version": 3
   },
   "file_extension": ".py",
   "mimetype": "text/x-python",
   "name": "python",
   "nbconvert_exporter": "python",
   "pygments_lexer": "ipython3",
   "version": "3.12.1"
  },
  "widgets": {
   "application/vnd.jupyter.widget-state+json": {
    "state": {},
    "version_major": 2,
    "version_minor": 0
   }
  }
 },
 "nbformat": 4,
 "nbformat_minor": 5
}
