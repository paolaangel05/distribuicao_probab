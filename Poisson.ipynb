{
 "cells": [
  {
   "cell_type": "markdown",
   "id": "8dec7db5-41ed-4bd2-978b-6fd56db281d2",
   "metadata": {},
   "source": [
    "# POISSON\n",
    "#### *Autora: Paola Silva*\n"
   ]
  },
  {
   "cell_type": "markdown",
   "id": "0849b0b0-0d51-4bbd-bb70-d5d77f2bd4c8",
   "metadata": {},
   "source": [
    "## Distribuição de Poisson\n",
    "\n",
    "- Modela o número de vezes em que um evento ocorre em um **intervalo**.\n",
    "- Parâmetro: $\\lambda$ (número médio de ocorrências).\n",
    "- Função de probabilidade:  \n",
    "<center>$P(X=k) = \\displaystyle \\frac{e^{-\\lambda}\\lambda^k }{k!}$, onde $k = 0,1,2,\\dots$"
   ]
  },
  {
   "cell_type": "code",
   "execution_count": 1,
   "id": "a5b51c56-20b3-4899-9369-efa9872d5286",
   "metadata": {},
   "outputs": [],
   "source": [
    "import numpy as np\n",
    "from scipy.stats import poisson\n",
    "import matplotlib.pyplot as plt\n",
    "%matplotlib inline\n",
    "\n",
    "#Definindo cores para os gráficos\n",
    "CINZA = \"#9E9E9E\"\n",
    "CINZA_TEXTO = \"#515151\"\n",
    "AZUL = \"#003F5c\""
   ]
  },
  {
   "cell_type": "markdown",
   "id": "6f0d2181-827c-4bb6-a7f5-22a109ada186",
   "metadata": {},
   "source": [
    "### Telefonemas por minuto"
   ]
  },
  {
   "cell_type": "markdown",
   "id": "2a30b804-dc63-4828-b592-06e0c2e71bae",
   "metadata": {
    "jp-MarkdownHeadingCollapsed": true
   },
   "source": [
    "<b> Numa central telefônica, o número de chamadas chega segundo uma distribuição de Poisson, com a média \n",
    "de oito chamadas *por minuto*. Determinar qual a probabilidade de que num minuto se tenha:"
   ]
  },
  {
   "cell_type": "markdown",
   "id": "293fa384-e412-4bdf-9b0d-a83129b7dc86",
   "metadata": {},
   "source": [
    "- **dez ou mais chamadas**\n",
    "-  **menos que nove chamadas**\n",
    "-  **entre sete (inclusive) e nove (exclusive) chamadas**"
   ]
  },
  {
   "cell_type": "markdown",
   "id": "600549c3-593c-4e19-bc29-63174f53027c",
   "metadata": {},
   "source": [
    "Seja X: número de chamadas por minuto"
   ]
  },
  {
   "cell_type": "code",
   "execution_count": 2,
   "id": "c5690b8e-4900-4035-8767-d8dadab566a5",
   "metadata": {},
   "outputs": [],
   "source": [
    "x = np.arange(9) #Valores que X pode assumir\n",
    "lambda_ = 8 #taxa média"
   ]
  },
  {
   "cell_type": "markdown",
   "id": "d5cfa886-7037-4606-bace-95fecd5693c1",
   "metadata": {},
   "source": [
    "<br>\n",
    "\n",
    "<b>Probabilidade de ter, pelo menos, 10 chamadas em um minuto </b>"
   ]
  },
  {
   "cell_type": "code",
   "execution_count": 3,
   "id": "9744a11c-577d-482a-9a91-afed3f7488a6",
   "metadata": {},
   "outputs": [
    {
     "name": "stdout",
     "output_type": "stream",
     "text": [
      "A probabilidade de ter pelo menos 10 chamadas é 28.34%\n"
     ]
    }
   ],
   "source": [
    "k = 10\n",
    "\n",
    "prob = 1-poisson.cdf(k-1,lambda_) \n",
    "print(f'A probabilidade de ter pelo menos {k} chamadas é {prob*100:.2f}%')"
   ]
  },
  {
   "cell_type": "markdown",
   "id": "9c3f0c83-beab-43dc-b7d0-6c7e516f4b87",
   "metadata": {},
   "source": [
    "<hr>  \n",
    "\n",
    "Obs: `poisson.cdf` retorna a probabilidade de X ser menor ou igual a x : P(X<=x).  \n",
    "Como quero a probabilidade de ser maior ou igual a 10, faço o complemento:  \n",
    "\n",
    "$P(X>=10) = 1 - P(X<10) = 1 - P(X <=9) = 1 - poisson.cdf (9,lambda\\_) $\n",
    "\n",
    "<hr>"
   ]
  },
  {
   "cell_type": "markdown",
   "id": "cfc8a011-b309-45b0-8cc3-2eab078c2f75",
   "metadata": {},
   "source": [
    "<br>\n",
    "\n",
    "**Probabilidade de ter menos que 9 chamadas**"
   ]
  },
  {
   "cell_type": "code",
   "execution_count": 4,
   "id": "70cd10d6-8dc7-42fa-921c-2116f3325596",
   "metadata": {},
   "outputs": [
    {
     "name": "stdout",
     "output_type": "stream",
     "text": [
      "A probabilidade de ter menos que 9 chamadas é 59.25%\n"
     ]
    }
   ],
   "source": [
    "k = 9\n",
    "prob = poisson.cdf(k-1, lambda_)\n",
    "print(f'A probabilidade de ter menos que {k} chamadas é {prob*100:.2f}%')"
   ]
  },
  {
   "cell_type": "markdown",
   "id": "913492c8-3db5-45f0-b2a6-0fec4a3960e8",
   "metadata": {},
   "source": [
    "<br>\n",
    "\n",
    "**Probabilidade de ter entre sete (inclusive) e nove (exclusive) chamadas**  "
   ]
  },
  {
   "cell_type": "code",
   "execution_count": 5,
   "id": "bc703f27-b157-4980-b800-cf6d89775433",
   "metadata": {},
   "outputs": [
    {
     "data": {
      "text/plain": [
       "array([7, 8])"
      ]
     },
     "execution_count": 5,
     "metadata": {},
     "output_type": "execute_result"
    }
   ],
   "source": [
    "x = np.arange(7,9)\n",
    "x"
   ]
  },
  {
   "cell_type": "code",
   "execution_count": 6,
   "id": "f68c8f0e-63b2-445b-b44d-11fb5426b93c",
   "metadata": {},
   "outputs": [
    {
     "name": "stdout",
     "output_type": "stream",
     "text": [
      "A probabilidade de o número de chamadas ser 7 ou 8 é 27.92%\n"
     ]
    }
   ],
   "source": [
    "prob_soma = 0\n",
    "for k in x:\n",
    "    prob_soma += poisson.pmf(k,lambda_)\n",
    "    \n",
    "print(f'A probabilidade de o número de chamadas ser 7 ou 8 é {prob_soma*100:.2f}%')"
   ]
  },
  {
   "cell_type": "markdown",
   "id": "946df278-0993-4838-897b-32974e4a5751",
   "metadata": {},
   "source": [
    "<br>\n",
    "\n",
    "- Outra forma de calcular usando apenas `poisson.cdf`"
   ]
  },
  {
   "cell_type": "code",
   "execution_count": 13,
   "id": "7ebcaf31-645a-46c6-8007-2967d6e1b85d",
   "metadata": {},
   "outputs": [
    {
     "name": "stdout",
     "output_type": "stream",
     "text": [
      "27.92%\n"
     ]
    }
   ],
   "source": [
    "teste = 1 - ( poisson.cdf(6,lambda_) + (1 - poisson.cdf(8, lambda_)) )\n",
    "print(f'{teste*100:.2f}%')"
   ]
  },
  {
   "cell_type": "code",
   "execution_count": null,
   "id": "94259483-a1f0-4ad2-b944-cf369d11df8c",
   "metadata": {},
   "outputs": [],
   "source": []
  }
 ],
 "metadata": {
  "kernelspec": {
   "display_name": "Python 3 (ipykernel)",
   "language": "python",
   "name": "python3"
  },
  "language_info": {
   "codemirror_mode": {
    "name": "ipython",
    "version": 3
   },
   "file_extension": ".py",
   "mimetype": "text/x-python",
   "name": "python",
   "nbconvert_exporter": "python",
   "pygments_lexer": "ipython3",
   "version": "3.12.1"
  },
  "widgets": {
   "application/vnd.jupyter.widget-state+json": {
    "state": {},
    "version_major": 2,
    "version_minor": 0
   }
  }
 },
 "nbformat": 4,
 "nbformat_minor": 5
}
